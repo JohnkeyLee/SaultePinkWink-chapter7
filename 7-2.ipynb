{
 "cells": [
  {
   "cell_type": "code",
   "execution_count": null,
   "metadata": {},
   "outputs": [],
   "source": [
    "# Need to intall 'pystan', 'prophet', 'fbprophet' and 'pandas_datareader'\n",
    "# AND install yfinance\n",
    "\n",
    "import warnings\n",
    "warnings.filterwarnings('ignore')\n",
    "import pandas as pd\n",
    "import pandas_datareader.data as web\n",
    "import numpy as np\n",
    "import matplotlib.pyplot as plt\n",
    "%matplotlib inline\n",
    "\n",
    "from prophet.forecaster import Prophet\n",
    "from datetime import datetime\n",
    "\n",
    "from pandas_datareader import data\n",
    "import yfinance as yf\n",
    "\n",
    "path = \"c:/Windows/Fonts/malgun.ttf\"\n",
    "import platform\n",
    "from matplotlib import font_manager, rc\n",
    "if platform.system() == 'Darwin':\n",
    "    rc('font', family='AppleGothic')\n",
    "elif platform.system() == 'Windows':\n",
    "    font_name = font_manager.FontProperties(fname=path).get_name()\n",
    "    rc('font', family=font_name)\n",
    "else:\n",
    "    print('Unknown system... sorry~~~~')    \n",
    "\n",
    "plt.rcParams['axes.unicode_minus'] = False"
   ]
  },
  {
   "cell_type": "code",
   "execution_count": null,
   "metadata": {},
   "outputs": [],
   "source": [
    "# This and the next code are to call the stock market data from Yahoo\n",
    "yf.pdr_override()\n",
    "\n",
    "start = datetime(2003, 1, 1)\n",
    "end = datetime(2023, 3, 31)\n",
    "\n",
    "Apple = data.get_data_yahoo('AAPL', start, end)\n",
    "print(Apple.head())"
   ]
  },
  {
   "cell_type": "code",
   "execution_count": null,
   "metadata": {},
   "outputs": [],
   "source": [
    "Tesla = data.get_data_yahoo('TSLA', start, end)\n",
    "print(Tesla.head())"
   ]
  },
  {
   "cell_type": "code",
   "execution_count": null,
   "metadata": {},
   "outputs": [],
   "source": [
    "# This is to plot the graph based on the 'Close' data\n",
    "Apple['Close'].plot(figsize=(12,6), grid=True)\n",
    "Tesla['Close'].plot(figsize=(12,6), grid=True)"
   ]
  },
  {
   "cell_type": "code",
   "execution_count": null,
   "metadata": {},
   "outputs": [],
   "source": [
    "# This and the next code are to trim the data by '2022-12-31' from the first beginning\n",
    "Apple_trunc = Apple[:'2022-12-31']\n",
    "print(Apple_trunc)"
   ]
  },
  {
   "cell_type": "code",
   "execution_count": null,
   "metadata": {},
   "outputs": [],
   "source": [
    "Tesla_trunc = Tesla[:'2022-12-31']\n",
    "print(Tesla_trunc)"
   ]
  },
  {
   "cell_type": "code",
   "execution_count": null,
   "metadata": {},
   "outputs": [],
   "source": [
    "# This is to build a data frame based on 'index' in 'Apple_trunc' and data is 'Apple_trunc'\n",
    "df = pd.DataFrame({'ds':Apple_trunc.index, 'y':Apple_trunc['Close']})\n",
    "print(df.head())"
   ]
  },
  {
   "cell_type": "code",
   "execution_count": null,
   "metadata": {},
   "outputs": [],
   "source": [
    "df.reset_index(inplace=True)\n",
    "print(df.head())"
   ]
  },
  {
   "cell_type": "code",
   "execution_count": null,
   "metadata": {},
   "outputs": [],
   "source": [
    "del df['Date']\n",
    "print(df.head())"
   ]
  },
  {
   "cell_type": "code",
   "execution_count": null,
   "metadata": {},
   "outputs": [],
   "source": [
    "df1 = pd.DataFrame({'ds':Tesla_trunc.index, 'y':Tesla_trunc['Close']})\n",
    "df1.reset_index(inplace=True)\n",
    "del df1['Date']\n",
    "print(df1.head())"
   ]
  },
  {
   "cell_type": "code",
   "execution_count": null,
   "metadata": {},
   "outputs": [],
   "source": [
    "# 'm' is a magic box for forecasting with 'Prophet'\n",
    "m = Prophet()\n",
    "print(m.fit(df))"
   ]
  },
  {
   "cell_type": "code",
   "execution_count": null,
   "metadata": {},
   "outputs": [],
   "source": [
    "m1 = Prophet()\n",
    "print(m1.fit(df1))"
   ]
  },
  {
   "cell_type": "code",
   "execution_count": null,
   "metadata": {},
   "outputs": [],
   "source": [
    "# 'make_future_dataframe' is to make dataframe with future dates for forecasting\n",
    "# This means I am going to predict the trend (behavior or data) 365 days\n",
    "future = m.make_future_dataframe(periods=365)\n",
    "print(future.tail())"
   ]
  },
  {
   "cell_type": "code",
   "execution_count": null,
   "metadata": {},
   "outputs": [],
   "source": [
    "future1 = m1.make_future_dataframe(periods=365)\n",
    "print(future1.tail())"
   ]
  },
  {
   "cell_type": "code",
   "execution_count": null,
   "metadata": {},
   "outputs": [],
   "source": [
    "# The function of 'predict' is to assign each row in the 'future' a predicted value which it names 'yhat'\n",
    "forecast = m.predict(future)\n",
    "print(forecast[['ds', 'yhat', 'yhat_lower', 'yhat_upper']].tail())"
   ]
  },
  {
   "cell_type": "code",
   "execution_count": null,
   "metadata": {},
   "outputs": [],
   "source": [
    "forecast1 = m1.predict(future1)\n",
    "print(forecast1[['ds', 'yhat', 'yhat_lower', 'yhat_upper']].tail())"
   ]
  },
  {
   "cell_type": "code",
   "execution_count": null,
   "metadata": {},
   "outputs": [],
   "source": [
    "m.plot(forecast)"
   ]
  },
  {
   "cell_type": "code",
   "execution_count": null,
   "metadata": {},
   "outputs": [],
   "source": [
    "m1.plot(forecast1)"
   ]
  },
  {
   "cell_type": "code",
   "execution_count": null,
   "metadata": {},
   "outputs": [],
   "source": [
    "m.plot_components(forecast)"
   ]
  },
  {
   "cell_type": "code",
   "execution_count": null,
   "metadata": {},
   "outputs": [],
   "source": [
    "m1.plot_components(forecast1)"
   ]
  },
  {
   "cell_type": "code",
   "execution_count": null,
   "metadata": {},
   "outputs": [],
   "source": [
    "start = datetime(2019, 1, 1)\n",
    "end = datetime(2023, 12, 30)\n",
    "\n",
    "Apple = data.get_data_yahoo('AAPL', start, end)\n",
    "Apple['Close'].plot(figsize=(12,6), grid=True)"
   ]
  },
  {
   "cell_type": "code",
   "execution_count": null,
   "metadata": {},
   "outputs": [],
   "source": [
    "start = datetime(2019, 1, 1)\n",
    "end = datetime(2023, 12, 30)\n",
    "\n",
    "Tesla = data.get_data_yahoo('TSLA', start, end)\n",
    "Tesla['Close'].plot(figsize=(12,6), grid=True)"
   ]
  },
  {
   "cell_type": "code",
   "execution_count": null,
   "metadata": {},
   "outputs": [],
   "source": [
    "# This is to feed more data by '2023-03-31' to predict the future behavior\n",
    "Apple_trunc = Apple[:'2023-03-31']\n",
    "Apple_trunc['Close'].plot(figsize=(12,6), grid=True)"
   ]
  },
  {
   "cell_type": "code",
   "execution_count": null,
   "metadata": {},
   "outputs": [],
   "source": [
    "Tesla_trunc = Tesla[:'2023-03-31']\n",
    "Tesla_trunc['Close'].plot(figsize=(12,6), grid=True)"
   ]
  },
  {
   "cell_type": "code",
   "execution_count": null,
   "metadata": {},
   "outputs": [],
   "source": [
    "df = pd.DataFrame({'ds':Apple_trunc.index, 'y':Apple_trunc['Close']})\n",
    "df.reset_index(inplace=True)\n",
    "del df['Date']"
   ]
  },
  {
   "cell_type": "code",
   "execution_count": null,
   "metadata": {},
   "outputs": [],
   "source": [
    "df1 = pd.DataFrame({'ds':Tesla_trunc.index, 'y':Tesla_trunc['Close']})\n",
    "df1.reset_index(inplace=True)\n",
    "del df1['Date']"
   ]
  },
  {
   "cell_type": "code",
   "execution_count": null,
   "metadata": {},
   "outputs": [],
   "source": [
    "m = Prophet()\n",
    "print(m.fit(df))"
   ]
  },
  {
   "cell_type": "code",
   "execution_count": null,
   "metadata": {},
   "outputs": [],
   "source": [
    "m1 = Prophet()\n",
    "print(m1.fit(df1))"
   ]
  },
  {
   "cell_type": "code",
   "execution_count": null,
   "metadata": {},
   "outputs": [],
   "source": [
    "future = m.make_future_dataframe(periods=180)\n",
    "print(future.tail())"
   ]
  },
  {
   "cell_type": "code",
   "execution_count": null,
   "metadata": {},
   "outputs": [],
   "source": [
    "future1 = m1.make_future_dataframe(periods=180)\n",
    "print(future1.tail())"
   ]
  },
  {
   "cell_type": "code",
   "execution_count": null,
   "metadata": {},
   "outputs": [],
   "source": [
    "forecast = m.predict(future)\n",
    "forecast1 = m1.predict(future1)\n",
    "m.plot(forecast)\n",
    "m1.plot(forecast1)"
   ]
  },
  {
   "cell_type": "code",
   "execution_count": null,
   "metadata": {},
   "outputs": [],
   "source": [
    "plt.figure(figsize=(12,6))\n",
    "plt.plot(Apple.index, Apple['Close'], label='AAPL-real')\n",
    "plt.plot(Tesla.index, Tesla['Close'], label='TSLA-real')\n",
    "plt.plot(forecast['ds'], forecast['yhat'], label='AAPL-forecast')\n",
    "plt.plot(forecast1['ds'], forecast1['yhat'], label='TSLA-forecast')\n",
    "plt.grid()\n",
    "plt.legend()\n",
    "plt.show()"
   ]
  }
 ],
 "metadata": {
  "kernelspec": {
   "display_name": "Python 3",
   "language": "python",
   "name": "python3"
  },
  "language_info": {
   "codemirror_mode": {
    "name": "ipython",
    "version": 3
   },
   "file_extension": ".py",
   "mimetype": "text/x-python",
   "name": "python",
   "nbconvert_exporter": "python",
   "pygments_lexer": "ipython3",
   "version": "3.9.5"
  },
  "orig_nbformat": 4
 },
 "nbformat": 4,
 "nbformat_minor": 2
}
