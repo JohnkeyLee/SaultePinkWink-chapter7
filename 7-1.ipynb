{
 "cells": [
  {
   "cell_type": "code",
   "execution_count": null,
   "metadata": {},
   "outputs": [],
   "source": [
    "# Need to intall 'pystan', 'prophet', 'fbprophet' and 'pandas_datareader'\n",
    "\n",
    "import warnings\n",
    "warnings.filterwarnings('ignore')\n",
    "import pandas as pd\n",
    "import pandas_datareader.data as web\n",
    "import numpy as np\n",
    "import matplotlib.pyplot as plt\n",
    "%matplotlib inline\n",
    "\n",
    "from prophet.forecaster import Prophet\n",
    "from datetime import datetime\n",
    "\n",
    "path = \"c:/Windows/Fonts/malgun.ttf\"\n",
    "import platform\n",
    "from matplotlib import font_manager, rc\n",
    "if platform.system() == 'Darwin':\n",
    "    rc('font', family='AppleGothic')\n",
    "elif platform.system() == 'Windows':\n",
    "    font_name = font_manager.FontProperties(fname=path).get_name()\n",
    "    rc('font', family=font_name)\n",
    "else:\n",
    "    print('Unknown system... sorry~~~~')    \n",
    "\n",
    "plt.rcParams['axes.unicode_minus'] = False"
   ]
  },
  {
   "cell_type": "code",
   "execution_count": null,
   "metadata": {},
   "outputs": [],
   "source": [
    "# This is to call the csv data and name of columns are 'date' and 'hit' and the first column will be the index \n",
    "pinkwink_web = pd.read_csv('D:\\\\OneDrive-Jongki\\\\OneDrive - Illinois Institute of Technology\\\\Jongki-study\\\\05_Manual\\\\17_Python\\\\DataScience\\\\data\\\\08. PinkWink Web Traffic.csv', \n",
    "                           encoding='utf-8', thousands=',', names = ['date','hit'], index_col=0)\n",
    "# pinkwink_web = pd.read_csv('D:\\\\OneDrive - Illinois Institute of Technology\\\\Jongki-study\\\\05_Manual\\\\17_Python\\\\DataScience\\\\data\\\\08. PinkWink Web Traffic.csv', \n",
    "#                            encoding='utf-8', thousands=',', names = ['date','hit'], index_col=0)\n",
    "# '.notnull' is to return the data when it is not null\n",
    "# 'isnull' is to return the data when it is null\n",
    "pinkwink_web = pinkwink_web[pinkwink_web['hit'].notnull()]\n",
    "print(pinkwink_web.head())"
   ]
  },
  {
   "cell_type": "code",
   "execution_count": null,
   "metadata": {},
   "outputs": [],
   "source": [
    "pinkwink_web['hit'].plot(figsize=(12,4), grid=True)"
   ]
  },
  {
   "cell_type": "code",
   "execution_count": null,
   "metadata": {},
   "outputs": [],
   "source": [
    "# This is to re-organize\n",
    "# '.arange' is to return evenly spaced values within a given interval\n",
    "# So, 'time' has the data number '0' to the length of 'pinkwink_web'\n",
    "time = np.arange(0, len(pinkwink_web))\n",
    "traffic = pinkwink_web['hit'].values\n",
    "\n",
    "# This is to return evenly spaced numbers over a specified interval.\n",
    "fx = np.linspace(0, time[-1], 1000)"
   ]
  },
  {
   "cell_type": "code",
   "execution_count": null,
   "metadata": {},
   "outputs": [],
   "source": [
    "# This is to set a function of 'error'\n",
    "def error(f, x, y):\n",
    "    return np.sqrt(np.mean((f(x)-y)**2))"
   ]
  },
  {
   "cell_type": "code",
   "execution_count": null,
   "metadata": {},
   "outputs": [],
   "source": [
    "# To understand why do we need to use 'polyfit' and 'poly1d', please check this out \"https://data36.com/linear-regression-in-python-numpy-polyfit/\"\n",
    "# 'polyfit' is to find the coefficients of a polynomial, here, 'fp1'('time') of degree '1' that fits the data\n",
    "fp1 = np.polyfit(time, traffic, 1)\n",
    "# '.poly1d' helps to define a polynomial function. It makes it easy to apply “natural operations” on polynomials.\n",
    "f1 = np.poly1d(fp1)\n",
    "\n",
    "fp2 = np.polyfit(time, traffic, 2)\n",
    "f2 = np.poly1d(fp2)\n",
    "\n",
    "fp3 = np.polyfit(time, traffic, 3)\n",
    "f3 = np.poly1d(fp3)\n",
    "\n",
    "fp15 = np.polyfit(time, traffic, 15)\n",
    "f15 = np.poly1d(fp15)\n",
    "\n",
    "print(error(f1, time, traffic))\n",
    "print(error(f2, time, traffic))\n",
    "print(error(f3, time, traffic))\n",
    "print(error(f15, time, traffic))"
   ]
  },
  {
   "cell_type": "code",
   "execution_count": null,
   "metadata": {},
   "outputs": [],
   "source": [
    "plt.figure(figsize=(10,6))\n",
    "plt.scatter(time, traffic, s=10)\n",
    "\n",
    "plt.plot(fx, f1(fx), lw=2, label='f1')\n",
    "plt.plot(fx, f2(fx), lw=2, label='f2')\n",
    "plt.plot(fx, f3(fx), lw=2, label='f3')\n",
    "plt.plot(fx, f15(fx), lw=2, label='f15')\n",
    "\n",
    "plt.grid(True, linestyle='-', color='0.75')\n",
    "plt.legend(loc=2)\n",
    "plt.show()"
   ]
  },
  {
   "cell_type": "code",
   "execution_count": null,
   "metadata": {},
   "outputs": [],
   "source": [
    "# This is to re-organize the data set as x-axis(index) equals to 'ds' and y-axis equals to 'y'\n",
    "df = pd.DataFrame({'ds':pinkwink_web.index, 'y':pinkwink_web['hit']})\n",
    "print(df)\n",
    "# This to make the index, 'pinkwink_web.index' to nothing (switch to a column)\n",
    "df.reset_index(inplace=True)\n",
    "print(df)"
   ]
  },
  {
   "cell_type": "code",
   "execution_count": null,
   "metadata": {},
   "outputs": [],
   "source": [
    "# Here, 'ds' means datestamp\n",
    "# The input to Prophet is always a dataframe with two columns: ds and y. \n",
    "# The ds (datestamp) column should be of a format expected by Pandas, ideally YYYY-MM-DD for a date or YYYY-MM-DD HH:MM:SS for a timestamp. The y column must be numeric, and represents the measurement we wish to forecast.\n",
    "df['ds'] = pd.to_datetime(df['ds'], format='%y. %m. %d.')\n",
    "print(df)\n",
    "del df['date']\n",
    "print(df)"
   ]
  },
  {
   "cell_type": "code",
   "execution_count": null,
   "metadata": {},
   "outputs": [],
   "source": [
    "# This is to predict the future data and we let the code knows it has a periodic pattern yearly by using 'yearly_seasonality'\n",
    "# Check this out to understand 'fit' https://facebook.github.io/prophet/docs/quick_start.html\n",
    "m = Prophet(yearly_seasonality=True)\n",
    "m.fit(df)"
   ]
  },
  {
   "cell_type": "code",
   "execution_count": null,
   "metadata": {},
   "outputs": [],
   "source": [
    "# This is to order that we need to check after '60' days of data \n",
    "future = m.make_future_dataframe(periods=60)\n",
    "print(future.tail())"
   ]
  },
  {
   "cell_type": "code",
   "execution_count": null,
   "metadata": {},
   "outputs": [],
   "source": [
    "# Using '.predict' from 'prophet', we can predict a value called 'yhat', and recieve uncertainity interval; 'yhat_lower' and 'yhat_upper'\n",
    "forecast = m.predict(future)\n",
    "print(forecast[['ds', 'yhat', 'yhat_lower', 'yhat_upper']].tail())\n",
    "# forecast[['ds', 'yhat', 'yhat_lower', 'yhat_upper']].head()\n"
   ]
  },
  {
   "cell_type": "code",
   "execution_count": null,
   "metadata": {},
   "outputs": [],
   "source": [
    "m.plot(forecast)"
   ]
  },
  {
   "cell_type": "code",
   "execution_count": null,
   "metadata": {},
   "outputs": [],
   "source": [
    "# https://zzsza.github.io/data/2019/02/06/prophet/ ---- Korean application\n",
    "# https://gorakgarak.tistory.com/1255 ---- Korean\n",
    "# https://hyperconnect.github.io/2020/03/09/prophet-package.html ---- Korean\n",
    "# https://github.com/facebook/prophet/issues/647\n",
    "# https://peerj.com/preprints/3190.pdf ---- Facebook paper\n",
    "# The units are the same as the unit in the previous graph\n",
    "m.plot_components(forecast)"
   ]
  }
 ],
 "metadata": {
  "kernelspec": {
   "display_name": "Python 3",
   "language": "python",
   "name": "python3"
  },
  "language_info": {
   "codemirror_mode": {
    "name": "ipython",
    "version": 3
   },
   "file_extension": ".py",
   "mimetype": "text/x-python",
   "name": "python",
   "nbconvert_exporter": "python",
   "pygments_lexer": "ipython3",
   "version": "3.9.5"
  },
  "orig_nbformat": 4
 },
 "nbformat": 4,
 "nbformat_minor": 2
}
